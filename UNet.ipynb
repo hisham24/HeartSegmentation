{
 "cells": [
  {
   "cell_type": "code",
   "execution_count": 1,
   "metadata": {
    "colab": {},
    "colab_type": "code",
    "id": "UZjTufN-ctj6"
   },
   "outputs": [],
   "source": [
    "!pip install -q pyyaml h5py  # Required to save models in HDF5 format\n",
    "!conda install -c conda-forge nibabel\n",
    "!conda install -c conda-forge opencv\n"
   ]
  },
  {
   "cell_type": "code",
   "execution_count": 1,
   "metadata": {
    "colab": {
     "base_uri": "https://localhost:8080/",
     "height": 34
    },
    "colab_type": "code",
    "id": "IGoVcMW2Sh_1",
    "outputId": "4e495b52-e54a-4b29-c38e-09fcaaaec541"
   },
   "outputs": [],
   "source": [
    "from __future__ import absolute_import, division, print_function, unicode_literals\n",
    "import cv2 as cv\n",
    "import os\n",
    "import tensorflow as tf\n",
    "import tensorflow_addons as tfa\n",
    "#%tensorflow_version 2.x\n",
    "\n",
    "import math\n",
    "import timeit\n",
    "import random\n",
    "import pandas as pd\n",
    "import numpy as np\n",
    "import matplotlib.pyplot as plt\n",
    "plt.style.use(\"ggplot\")\n",
    "%matplotlib inline\n",
    "\n",
    "#from tqdm import tqdm_notebook, tnrange\n",
    "#from itertools import chain\n",
    "from skimage.io import imread, imshow, concatenate_images\n",
    "from skimage.transform import resize\n",
    "from skimage.morphology import label\n",
    "import skimage as sk\n",
    "from sklearn.model_selection import train_test_split\n",
    "\n",
    "#import nibabel as nib"
   ]
  },
  {
   "cell_type": "code",
   "execution_count": 2,
   "metadata": {},
   "outputs": [
    {
     "name": "stdout",
     "output_type": "stream",
     "text": [
      "2.1.0\n"
     ]
    }
   ],
   "source": [
    "print(tf.__version__)"
   ]
  },
  {
   "cell_type": "code",
   "execution_count": 3,
   "metadata": {
    "colab": {
     "base_uri": "https://localhost:8080/",
     "height": 34
    },
    "colab_type": "code",
    "id": "cAMOQ9NSS7sp",
    "outputId": "b526a820-2eab-4808-bac6-5c1f35e83d63"
   },
   "outputs": [
    {
     "name": "stdout",
     "output_type": "stream",
     "text": [
      "Using device:  /device:GPU:0\n"
     ]
    }
   ],
   "source": [
    "# Set up some global variables\n",
    "USE_GPU = True\n",
    "\n",
    "if USE_GPU:\n",
    "    device = '/device:GPU:0'\n",
    "else:\n",
    "    device = '/cpu:0'\n",
    "\n",
    "# Constant to control how often we print when training models\n",
    "print_every = 100\n",
    "\n",
    "print('Using device: ', device)"
   ]
  },
  {
   "cell_type": "code",
   "execution_count": 4,
   "metadata": {
    "colab": {
     "base_uri": "https://localhost:8080/",
     "height": 180
    },
    "colab_type": "code",
    "id": "7y5nt6NOs8kA",
    "outputId": "888674c0-db01-42f2-aabd-57332f4cf9f8"
   },
   "outputs": [],
   "source": [
    "# print(X[:amount].shape,X[amount:].shape)\n",
    "# print(y[:amount].shape)"
   ]
  },
  {
   "cell_type": "code",
   "execution_count": 5,
   "metadata": {
    "colab": {},
    "colab_type": "code",
    "id": "B0vC_2XeTxRH"
   },
   "outputs": [],
   "source": [
    "X_train = np.load('X_train.npy')\n",
    "X_train = X_train.reshape(1360, 176, 224,1)\n",
    "y_train = np.load('y_train.npy')\n",
    "y_train = y_train.reshape(1360, 176, 224,1)\n",
    "X_val = np.load('X_val.npy')\n",
    "X_val = X_val.reshape(266, 176, 224,1)\n",
    "y_val = np.load('y_val.npy')\n",
    "y_val = y_val.reshape(266, 176, 224,1)\n",
    "X_test = np.load('X_test.npy')\n",
    "X_test = X_test.reshape(276, 176, 224,1)\n",
    "y_test = np.load('y_test.npy')\n",
    "y_test = y_test.reshape(276, 176, 224,1)\n"
   ]
  },
  {
   "cell_type": "code",
   "execution_count": 6,
   "metadata": {},
   "outputs": [
    {
     "name": "stdout",
     "output_type": "stream",
     "text": [
      "(1360, 176, 224, 1) (266, 176, 224, 1) (276, 176, 224, 1)\n",
      "(1360, 176, 224, 1) (266, 176, 224, 1) (276, 176, 224, 1)\n"
     ]
    }
   ],
   "source": [
    "print(X_train.shape,X_val.shape,X_test.shape)\n",
    "print(y_train.shape,y_val.shape,y_test.shape)"
   ]
  },
  {
   "cell_type": "code",
   "execution_count": 7,
   "metadata": {
    "colab": {
     "base_uri": "https://localhost:8080/",
     "height": 34
    },
    "colab_type": "code",
    "id": "VQTrp1yvlYAq",
    "outputId": "e8a1ea07-684c-4ad7-8336-433643367752"
   },
   "outputs": [
    {
     "name": "stdout",
     "output_type": "stream",
     "text": [
      "[0.         0.33333333 0.66666667 1.        ]\n"
     ]
    }
   ],
   "source": [
    "print(np.unique(y_train))"
   ]
  },
  {
   "cell_type": "code",
   "execution_count": 8,
   "metadata": {
    "colab": {},
    "colab_type": "code",
    "id": "onOZQ7_kkudq"
   },
   "outputs": [],
   "source": [
    "y_train[abs(y_train-0)<0.001] = 0\n",
    "y_train[abs(y_train-1)<0.001] = 3\n",
    "y_train[abs(y_train-0.333)<0.001] = 1\n",
    "y_train[abs(y_train-0.666)<0.001] = 2\n",
    "y_val[abs(y_val-0)<0.001] = 0\n",
    "y_val[abs(y_val-1)<0.001] = 3\n",
    "y_val[abs(y_val-0.333)<0.001] = 1\n",
    "y_val[abs(y_val-0.666)<0.001] = 2\n",
    "y_test[abs(y_test-0)<0.001] = 0\n",
    "y_test[abs(y_test-1)<0.001] = 3\n",
    "y_test[abs(y_test-0.333)<0.001] = 1\n",
    "y_test[abs(y_test-0.666)<0.001] = 2\n"
   ]
  },
  {
   "cell_type": "code",
   "execution_count": 9,
   "metadata": {
    "colab": {
     "base_uri": "https://localhost:8080/",
     "height": 34
    },
    "colab_type": "code",
    "id": "1a8svE5ZlcgJ",
    "outputId": "491d24d4-437e-4fdd-8a6c-e9b7170ee0e2"
   },
   "outputs": [
    {
     "name": "stdout",
     "output_type": "stream",
     "text": [
      "[0. 1. 2. 3.] [0. 1. 2. 3.] [0. 1. 2. 3.]\n"
     ]
    }
   ],
   "source": [
    "print(np.unique(y_train), np.unique(y_val), np.unique(y_test))"
   ]
  },
  {
   "cell_type": "code",
   "execution_count": 10,
   "metadata": {
    "colab": {},
    "colab_type": "code",
    "id": "65fzp_jaYkFl"
   },
   "outputs": [],
   "source": [
    "class UNet(tf.keras.Model):\n",
    "    def __init__(self, start_neurons):\n",
    "        super(UNet, self).__init__()\n",
    "        \n",
    "        initializer = tf.initializers.VarianceScaling(scale=2.0)\n",
    "        \n",
    "        self.conv11 = tf.keras.layers.Conv2D(start_neurons*1, 3, activation='relu',padding='same', kernel_initializer=initializer)\n",
    "        self.instnorm11 = tfa.layers.InstanceNormalization(axis=3, \n",
    "                                   center=True, \n",
    "                                   scale=True,\n",
    "                                   beta_initializer=\"random_uniform\",\n",
    "                                   gamma_initializer=\"random_uniform\")\n",
    "        self.conv12 = tf.keras.layers.Conv2D(start_neurons*1, 3, activation='relu',padding='same', kernel_initializer=initializer)\n",
    "        self.instnorm12 = tfa.layers.InstanceNormalization(axis=3, \n",
    "                                   center=True, \n",
    "                                   scale=True,\n",
    "                                   beta_initializer=\"random_uniform\",\n",
    "                                   gamma_initializer=\"random_uniform\")\n",
    "        self.pool1 = tf.keras.layers.MaxPool2D((2,2))\n",
    "\n",
    "        self.conv21 = tf.keras.layers.Conv2D(start_neurons*2, 3, activation='relu',padding='same', kernel_initializer=initializer)\n",
    "        self.instnorm21 = tfa.layers.InstanceNormalization(axis=3, \n",
    "                                   center=True, \n",
    "                                   scale=True,\n",
    "                                   beta_initializer=\"random_uniform\",\n",
    "                                   gamma_initializer=\"random_uniform\")\n",
    "        self.conv22 = tf.keras.layers.Conv2D(start_neurons*2, 3, activation='relu',padding='same', kernel_initializer=initializer)\n",
    "        self.instnorm22 = tfa.layers.InstanceNormalization(axis=3, \n",
    "                                   center=True, \n",
    "                                   scale=True,\n",
    "                                   beta_initializer=\"random_uniform\",\n",
    "                                   gamma_initializer=\"random_uniform\")\n",
    "        self.pool2 = tf.keras.layers.MaxPool2D((2,2))\n",
    "\n",
    "        self.conv31 = tf.keras.layers.Conv2D(start_neurons*4, 3, activation='relu',padding='same', kernel_initializer=initializer)\n",
    "        self.instnorm31 = tfa.layers.InstanceNormalization(axis=3, \n",
    "                                   center=True, \n",
    "                                   scale=True,\n",
    "                                   beta_initializer=\"random_uniform\",\n",
    "                                   gamma_initializer=\"random_uniform\")\n",
    "        self.conv32 = tf.keras.layers.Conv2D(start_neurons*4, 3, activation='relu',padding='same', kernel_initializer=initializer)\n",
    "        self.instnorm32 = tfa.layers.InstanceNormalization(axis=3, \n",
    "                                   center=True, \n",
    "                                   scale=True,\n",
    "                                   beta_initializer=\"random_uniform\",\n",
    "                                   gamma_initializer=\"random_uniform\")\n",
    "        self.pool3 = tf.keras.layers.MaxPool2D((2,2))\n",
    "\n",
    "        self.conv41 = tf.keras.layers.Conv2D(start_neurons*8, 3, activation='relu',padding='same', kernel_initializer=initializer)\n",
    "        self.instnorm41 = tfa.layers.InstanceNormalization(axis=3, \n",
    "                                   center=True, \n",
    "                                   scale=True,\n",
    "                                   beta_initializer=\"random_uniform\",\n",
    "                                   gamma_initializer=\"random_uniform\")\n",
    "        self.conv42 = tf.keras.layers.Conv2D(start_neurons*8, 3, activation='relu',padding='same', kernel_initializer=initializer)\n",
    "        self.instnorm42 = tfa.layers.InstanceNormalization(axis=3, \n",
    "                                   center=True, \n",
    "                                   scale=True,\n",
    "                                   beta_initializer=\"random_uniform\",\n",
    "                                   gamma_initializer=\"random_uniform\")\n",
    "        self.pool4 = tf.keras.layers.MaxPool2D((2,2))\n",
    "\n",
    "        self.convm1 = tf.keras.layers.Conv2D(start_neurons * 16, 3, activation=\"relu\", padding=\"same\", kernel_initializer=initializer)\n",
    "        self.instnormm1 = tfa.layers.InstanceNormalization(axis=3, \n",
    "                                   center=True, \n",
    "                                   scale=True,\n",
    "                                   beta_initializer=\"random_uniform\",\n",
    "                                   gamma_initializer=\"random_uniform\") \n",
    "        self.convm2 = tf.keras.layers.Conv2D(start_neurons * 16, 3, activation=\"relu\", padding=\"same\",kernel_initializer=initializer)\n",
    "        self.instnormm2 = tfa.layers.InstanceNormalization(axis=3, \n",
    "                                   center=True, \n",
    "                                   scale=True,\n",
    "                                   beta_initializer=\"random_uniform\",\n",
    "                                   gamma_initializer=\"random_uniform\")\n",
    "        \n",
    "        self.deconv4 = tf.keras.layers.Conv2DTranspose(start_neurons * 8, 3, strides=(2, 2), padding=\"same\", kernel_initializer=initializer)\n",
    "        self.deconv_instnorm41 = tfa.layers.InstanceNormalization(axis=3, \n",
    "                                   center=True, \n",
    "                                   scale=True,\n",
    "                                   beta_initializer=\"random_uniform\",\n",
    "                                   gamma_initializer=\"random_uniform\")\n",
    "        self.uconv41 = tf.keras.layers.Concatenate()\n",
    "        self.uconv42 = tf.keras.layers.Conv2D(start_neurons * 8, (3, 3), activation=\"relu\", padding=\"same\",kernel_initializer=initializer)\n",
    "        self.uconv_instnorm41 = tfa.layers.InstanceNormalization(axis=3, \n",
    "                                   center=True, \n",
    "                                   scale=True,\n",
    "                                   beta_initializer=\"random_uniform\",\n",
    "                                   gamma_initializer=\"random_uniform\")\n",
    "        self.uconv43 = tf.keras.layers.Conv2D(start_neurons * 8, (3, 3), activation=\"relu\", padding=\"same\",kernel_initializer=initializer)\n",
    "        self.uconv_instnorm42 = tfa.layers.InstanceNormalization(axis=3, \n",
    "                                   center=True, \n",
    "                                   scale=True,\n",
    "                                   beta_initializer=\"random_uniform\",\n",
    "                                   gamma_initializer=\"random_uniform\")\n",
    "        \n",
    "        self.deconv3 = tf.keras.layers.Conv2DTranspose(start_neurons * 4, 3, strides=(2, 2), padding=\"same\", kernel_initializer=initializer)\n",
    "        self.deconv_instnorm31 = tfa.layers.InstanceNormalization(axis=3, \n",
    "                                   center=True, \n",
    "                                   scale=True,\n",
    "                                   beta_initializer=\"random_uniform\",\n",
    "                                   gamma_initializer=\"random_uniform\")\n",
    "        self.uconv31 = tf.keras.layers.Concatenate()\n",
    "        self.uconv32 = tf.keras.layers.Conv2D(start_neurons * 4, (3, 3), activation=\"relu\", padding=\"same\",kernel_initializer=initializer)\n",
    "        self.uconv_instnorm31 = tfa.layers.InstanceNormalization(axis=3, \n",
    "                                   center=True, \n",
    "                                   scale=True,\n",
    "                                   beta_initializer=\"random_uniform\",\n",
    "                                   gamma_initializer=\"random_uniform\")\n",
    "        self.uconv33 = tf.keras.layers.Conv2D(start_neurons * 4, (3, 3), activation=\"relu\", padding=\"same\",kernel_initializer=initializer)\n",
    "        self.uconv_instnorm32 = tfa.layers.InstanceNormalization(axis=3, \n",
    "                                   center=True, \n",
    "                                   scale=True,\n",
    "                                   beta_initializer=\"random_uniform\",\n",
    "                                   gamma_initializer=\"random_uniform\")\n",
    "        \n",
    "        self.deconv2 = tf.keras.layers.Conv2DTranspose(start_neurons * 2, 3, strides=(2, 2), padding=\"same\", kernel_initializer=initializer)\n",
    "        self.deconv_instnorm21 = tfa.layers.InstanceNormalization(axis=3, \n",
    "                                   center=True, \n",
    "                                   scale=True,\n",
    "                                   beta_initializer=\"random_uniform\",\n",
    "                                   gamma_initializer=\"random_uniform\")\n",
    "        self.uconv21 = tf.keras.layers.Concatenate()\n",
    "        self.uconv22 = tf.keras.layers.Conv2D(start_neurons * 2, (3, 3), activation=\"relu\", padding=\"same\",kernel_initializer=initializer)\n",
    "        self.uconv_instnorm21 = tfa.layers.InstanceNormalization(axis=3, \n",
    "                                   center=True, \n",
    "                                   scale=True,\n",
    "                                   beta_initializer=\"random_uniform\",\n",
    "                                   gamma_initializer=\"random_uniform\")\n",
    "        self.uconv23 = tf.keras.layers.Conv2D(start_neurons * 2, (3, 3), activation=\"relu\", padding=\"same\",kernel_initializer=initializer)\n",
    "        self.uconv_instnorm22 = tfa.layers.InstanceNormalization(axis=3, \n",
    "                                   center=True, \n",
    "                                   scale=True,\n",
    "                                   beta_initializer=\"random_uniform\",\n",
    "                                   gamma_initializer=\"random_uniform\")\n",
    "        \n",
    "        self.deconv1 = tf.keras.layers.Conv2DTranspose(start_neurons * 1, 3, strides=(2, 2), padding=\"same\", kernel_initializer=initializer)\n",
    "        self.deconv_instnorm11 = tfa.layers.InstanceNormalization(axis=3, \n",
    "                                   center=True, \n",
    "                                   scale=True,\n",
    "                                   beta_initializer=\"random_uniform\",\n",
    "                                   gamma_initializer=\"random_uniform\")\n",
    "        self.uconv11 = tf.keras.layers.Concatenate()\n",
    "        self.uconv12 = tf.keras.layers.Conv2D(start_neurons * 1, (3, 3), activation=\"relu\", padding=\"same\",kernel_initializer=initializer)\n",
    "        self.uconv_instnorm11 = tfa.layers.InstanceNormalization(axis=3, \n",
    "                                   center=True, \n",
    "                                   scale=True,\n",
    "                                   beta_initializer=\"random_uniform\",\n",
    "                                   gamma_initializer=\"random_uniform\")\n",
    "        self.uconv13 = tf.keras.layers.Conv2D(start_neurons * 1, (3, 3), activation=\"relu\", padding=\"same\",kernel_initializer=initializer)\n",
    "        self.uconv_instnorm12 = tfa.layers.InstanceNormalization(axis=3, \n",
    "                                   center=True, \n",
    "                                   scale=True,\n",
    "                                   beta_initializer=\"random_uniform\",\n",
    "                                   gamma_initializer=\"random_uniform\")\n",
    "        \n",
    "        self.output_layer = tf.keras.layers.Conv2D(4, 1, padding=\"same\",activation=\"sigmoid\",kernel_initializer=initializer)\n",
    "\n",
    "        \n",
    "    def call(self, x, training=False):\n",
    "        x = self.conv11(x)\n",
    "        x = self.instnorm11(x)\n",
    "        x = self.conv12(x)\n",
    "        x1 = self.instnorm12(x)\n",
    "        x = self.pool1(x1)\n",
    "        \n",
    "        x = self.conv21(x)\n",
    "        x = self.instnorm21(x)\n",
    "        x = self.conv22(x)\n",
    "        x2 = self.instnorm22(x)\n",
    "        x = self.pool2(x2)\n",
    "        \n",
    "        x = self.conv31(x)\n",
    "        x = self.instnorm31(x)\n",
    "        x = self.conv32(x)\n",
    "        x3 = self.instnorm32(x)\n",
    "        x = self.pool3(x3)\n",
    "        \n",
    "        x = self.conv41(x)\n",
    "        x = self.instnorm41(x)\n",
    "        x = self.conv42(x)\n",
    "        x4 = self.instnorm42(x)\n",
    "        x = self.pool4(x4)\n",
    "        \n",
    "        x = self.convm1(x)\n",
    "        x = self.instnormm1(x)\n",
    "        x = self.convm2(x)\n",
    "        x = self.instnormm2(x)\n",
    "        \n",
    "        x = self.deconv4(x)\n",
    "        x = self.deconv_instnorm41(x)\n",
    "        x = self.uconv41([x,x4])\n",
    "        x = self.uconv42(x)\n",
    "        x = self.uconv_instnorm41(x)\n",
    "        x = self.uconv43(x)\n",
    "        x = self.uconv_instnorm42(x)\n",
    "        \n",
    "        x = self.deconv3(x)\n",
    "        x = self.deconv_instnorm31(x)\n",
    "        x = self.uconv31([x,x3])\n",
    "        x = self.uconv32(x)\n",
    "        x = self.uconv_instnorm31(x)\n",
    "        x = self.uconv33(x)\n",
    "        x = self.uconv_instnorm32(x)\n",
    "        \n",
    "        x = self.deconv2(x)\n",
    "        x = self.deconv_instnorm21(x)\n",
    "        x = self.uconv21([x,x2])\n",
    "        x = self.uconv22(x)\n",
    "        x = self.uconv_instnorm21(x)\n",
    "        x = self.uconv23(x)\n",
    "        x = self.uconv_instnorm22(x)\n",
    "        \n",
    "        x = self.deconv1(x)\n",
    "        x = self.deconv_instnorm11(x)\n",
    "        x = self.uconv11([x,x1])\n",
    "        x = self.uconv12(x)\n",
    "        x = self.uconv_instnorm11(x)\n",
    "        x = self.uconv13(x)\n",
    "        x = self.uconv_instnorm12(x)\n",
    "        \n",
    "        scores = self.output_layer(x)     \n",
    "        return scores"
   ]
  },
  {
   "cell_type": "code",
   "execution_count": 11,
   "metadata": {
    "colab": {},
    "colab_type": "code",
    "id": "RPFdeq9AMXPE"
   },
   "outputs": [],
   "source": [
    "def model_init_fn():\n",
    "    model = None\n",
    "    model = UNet(start_neurons)\n",
    "    return model\n",
    "\n",
    "def optimizer_init_fn():\n",
    "    optimizer = None\n",
    "    optimizer = tf.keras.optimizers.Adam(learning_rate=learning_rate)\n",
    "    return optimizer"
   ]
  },
  {
   "cell_type": "code",
   "execution_count": 14,
   "metadata": {
    "colab": {
     "base_uri": "https://localhost:8080/",
     "height": 34
    },
    "colab_type": "code",
    "id": "M_w_9f2nQwsu",
    "outputId": "d71cd1c8-3c59-4d10-ac80-b0e4a43c246f"
   },
   "outputs": [
    {
     "name": "stdout",
     "output_type": "stream",
     "text": [
      "(1360, 176, 224, 1) (1360, 176, 224, 1)\n"
     ]
    }
   ],
   "source": [
    "class Dataset(object):\n",
    "    def __init__(self, X, y, batch_size, shuffle=False):\n",
    "        assert X.shape[0] == y.shape[0], 'Got different numbers of data and labels'\n",
    "        self.X, self.y = X, y\n",
    "        self.batch_size, self.shuffle = batch_size, shuffle\n",
    "\n",
    "    def __iter__(self):\n",
    "        N, B = self.X.shape[0], self.batch_size\n",
    "        idxs = np.arange(N)\n",
    "        if self.shuffle:\n",
    "            np.random.shuffle(idxs)\n",
    "        return iter((self.X[i:i+B], self.y[i:i+B]) for i in range(0, N, B))\n",
    "\n",
    "train_dset = Dataset(X_train, y_train, batch_size=32, shuffle=True)\n",
    "val_dset = Dataset(X_val, y_val, batch_size=32, shuffle=False)\n",
    "test_dset = Dataset(X_test, y_test, batch_size=32, shuffle=False)\n",
    "print(X_train.shape,y_train.shape)"
   ]
  },
  {
   "cell_type": "code",
   "execution_count": 29,
   "metadata": {
    "colab": {},
    "colab_type": "code",
    "id": "igxt6foowEEs"
   },
   "outputs": [],
   "source": [
    "def train_part(model, optimizer, manager, num_epochs=1, is_training=False):   \n",
    "    with tf.device(device):\n",
    "        \n",
    "        ckpt.restore(manager.latest_checkpoint)\n",
    "        if manager.latest_checkpoint:\n",
    "          print(\"Restored from {}\".format(manager.latest_checkpoint))\n",
    "        else:\n",
    "          print(\"Initializing from scratch.\")\n",
    "\n",
    "        loss_fn = tf.keras.losses.SparseCategoricalCrossentropy()\n",
    "        \n",
    "        train_loss = tf.keras.metrics.Mean(name='train_loss')\n",
    "        train_accuracy = tf.keras.metrics.SparseCategoricalAccuracy(name='train_accuracy')\n",
    "    \n",
    "        val_loss = tf.keras.metrics.Mean(name='val_loss')\n",
    "        val_accuracy = tf.keras.metrics.SparseCategoricalAccuracy(name='val_accuracy')\n",
    "        \n",
    "        t = 0\n",
    "        \n",
    "        for epoch in range(num_epochs):\n",
    "            \n",
    "            train_loss.reset_states()\n",
    "            train_accuracy.reset_states()\n",
    "            \n",
    "            for x_np, y_np in train_dset:\n",
    "                with tf.GradientTape() as tape:\n",
    "                    ckpt.step.assign_add(1)\n",
    "                    scores = model(x_np, training=is_training)\n",
    "                    loss = loss_fn(y_np, scores)\n",
    "      \n",
    "                    gradients = tape.gradient(loss, model.trainable_variables)\n",
    "                    optimizer.apply_gradients(zip(gradients, model.trainable_variables))\n",
    "                    \n",
    "                    train_loss.update_state(loss)\n",
    "                    train_accuracy.update_state(y_np, scores)\n",
    "                    \n",
    "                    if t % print_every == 0:\n",
    "                        val_loss.reset_states()\n",
    "                        val_accuracy.reset_states()\n",
    "                        for test_x, test_y in val_dset:\n",
    "                            # During validation at end of epoch, training set to False\n",
    "                            prediction = model(test_x, training=False)\n",
    "                            t_loss = loss_fn(test_y, prediction)\n",
    "\n",
    "                            val_loss.update_state(t_loss)\n",
    "                            val_accuracy.update_state(test_y, prediction)\n",
    "                        save_path = manager.save()\n",
    "                        print(\"Saved checkpoint for step {}: {}\".format(int(ckpt.step), save_path))\n",
    "                        template = 'Iteration {}, Epoch {}, Loss: {}, Accuracy: {}, Val Loss: {}, Val Accuracy: {}'\n",
    "                        print (template.format(t, epoch+1,\n",
    "                                             train_loss.result(),\n",
    "                                             train_accuracy.result()*100,\n",
    "                                             val_loss.result(),\n",
    "                                             val_accuracy.result()*100))\n",
    "                    t += 1\n",
    "            train_loss_history.append(train_loss.result())\n",
    "            train_accuracy_history.append(train_accuracy.result()*100)\n",
    "            val_loss_history.append(val_loss.result())\n",
    "            val_accuracy_history.append(val_accuracy.result()*100)\n",
    "            "
   ]
  },
  {
   "cell_type": "code",
   "execution_count": 15,
   "metadata": {
    "colab": {},
    "colab_type": "code",
    "id": "nyrmY402urBv"
   },
   "outputs": [],
   "source": [
    "start_neurons=32\n",
    "start_learning_rate=0.005\n",
    "learning_rate = tf.keras.optimizers.schedules.ExponentialDecay(\n",
    "            initial_learning_rate=start_learning_rate,\n",
    "            decay_steps=100000, \n",
    "            decay_rate=0.96,\n",
    "            staircase=True\n",
    "        )\n",
    "model = model_init_fn()\n",
    "optimizer = optimizer_init_fn()\n",
    "ckpt = tf.train.Checkpoint(step=tf.Variable(1), optimizer=optimizer, model=model)\n",
    "manager = tf.train.CheckpointManager(ckpt, './tf_ckpts', max_to_keep=3)"
   ]
  },
  {
   "cell_type": "code",
   "execution_count": 32,
   "metadata": {},
   "outputs": [],
   "source": [
    "train_loss_history = []\n",
    "train_accuracy_history = []\n",
    "val_loss_history = []\n",
    "val_accuracy_history = []"
   ]
  },
  {
   "cell_type": "code",
   "execution_count": 34,
   "metadata": {
    "colab": {
     "base_uri": "https://localhost:8080/",
     "height": 527
    },
    "colab_type": "code",
    "id": "LmLDB6ajusa_",
    "outputId": "9caffc76-48de-43e8-a984-09ff1df0a0c0"
   },
   "outputs": [
    {
     "name": "stdout",
     "output_type": "stream",
     "text": [
      "Initializing from scratch.\n",
      "WARNING:tensorflow:Layer u_net_1 is casting an input tensor from dtype float64 to the layer's dtype of float32, which is new behavior in TensorFlow 2.  The layer has dtype float32 because it's dtype defaults to floatx.\n",
      "\n",
      "If you intended to run this layer in float32, you can safely ignore this warning. If in doubt, this warning is likely only an issue if you are porting a TensorFlow 1.X model to TensorFlow 2.\n",
      "\n",
      "To change all layers to have dtype float64 by default, call `tf.keras.backend.set_floatx('float64')`. To change just this layer, pass dtype='float64' to the layer constructor. If you are the author of this layer, you can disable autocasting by passing autocast=False to the base Layer constructor.\n",
      "\n",
      "Saved checkpoint for step 2: ./tf_ckpts/ckpt-1\n",
      "Iteration 0, Epoch 1, Loss: 1.4025685787200928, Accuracy: 0.9655444622039795, Val Loss: 1.3808931112289429, Val Accuracy: 44.38287353515625\n",
      "Saved checkpoint for step 102: ./tf_ckpts/ckpt-2\n",
      "Iteration 100, Epoch 3, Loss: 0.11096923053264618, Accuracy: 95.77896881103516, Val Loss: 0.09488966315984726, Val Accuracy: 96.81304931640625\n",
      "Saved checkpoint for step 202: ./tf_ckpts/ckpt-3\n",
      "Iteration 200, Epoch 5, Loss: 0.08135011047124863, Accuracy: 96.93073272705078, Val Loss: 0.07543686032295227, Val Accuracy: 97.30875396728516\n",
      "Saved checkpoint for step 302: ./tf_ckpts/ckpt-4\n",
      "Iteration 300, Epoch 7, Loss: 0.06654484570026398, Accuracy: 97.51150512695312, Val Loss: 0.05961183086037636, Val Accuracy: 97.68787384033203\n",
      "Saved checkpoint for step 402: ./tf_ckpts/ckpt-5\n",
      "Iteration 400, Epoch 10, Loss: 0.05386465787887573, Accuracy: 98.02194213867188, Val Loss: 0.05322925001382828, Val Accuracy: 97.96560668945312\n",
      "Saved checkpoint for step 502: ./tf_ckpts/ckpt-6\n",
      "Iteration 500, Epoch 12, Loss: 0.04626009240746498, Accuracy: 98.35990142822266, Val Loss: 0.04258730635046959, Val Accuracy: 98.55467987060547\n",
      "Saved checkpoint for step 602: ./tf_ckpts/ckpt-7\n",
      "Iteration 600, Epoch 14, Loss: 0.038670431822538376, Accuracy: 98.62633514404297, Val Loss: 0.03948386386036873, Val Accuracy: 98.56816864013672\n",
      "Saved checkpoint for step 702: ./tf_ckpts/ckpt-8\n",
      "Iteration 700, Epoch 17, Loss: 0.03452638164162636, Accuracy: 98.80184173583984, Val Loss: 0.03678363189101219, Val Accuracy: 98.70073699951172\n",
      "Saved checkpoint for step 802: ./tf_ckpts/ckpt-9\n",
      "Iteration 800, Epoch 19, Loss: 0.030850188806653023, Accuracy: 98.92916107177734, Val Loss: 0.031006358563899994, Val Accuracy: 98.92391967773438\n",
      "Saved checkpoint for step 902: ./tf_ckpts/ckpt-10\n",
      "Iteration 900, Epoch 21, Loss: 0.027686255052685738, Accuracy: 99.01154327392578, Val Loss: 0.03118550404906273, Val Accuracy: 98.85328674316406\n",
      "Saved checkpoint for step 1002: ./tf_ckpts/ckpt-11\n",
      "Iteration 1000, Epoch 24, Loss: 0.023082002997398376, Accuracy: 99.15532684326172, Val Loss: 0.025960611179471016, Val Accuracy: 99.07935333251953\n",
      "Saved checkpoint for step 1102: ./tf_ckpts/ckpt-12\n",
      "Iteration 1100, Epoch 26, Loss: 0.021065615117549896, Accuracy: 99.23149108886719, Val Loss: 0.02275518700480461, Val Accuracy: 99.18630981445312\n",
      "Saved checkpoint for step 1202: ./tf_ckpts/ckpt-13\n",
      "Iteration 1200, Epoch 28, Loss: 0.019754040986299515, Accuracy: 99.2701187133789, Val Loss: 0.02551588974893093, Val Accuracy: 99.10167694091797\n",
      "Saved checkpoint for step 1302: ./tf_ckpts/ckpt-14\n",
      "Iteration 1300, Epoch 31, Loss: 0.019297564402222633, Accuracy: 99.29638671875, Val Loss: 0.023956213146448135, Val Accuracy: 99.12028503417969\n",
      "Saved checkpoint for step 1402: ./tf_ckpts/ckpt-15\n",
      "Iteration 1400, Epoch 33, Loss: 0.018657708540558815, Accuracy: 99.31747436523438, Val Loss: 0.023677639663219452, Val Accuracy: 99.17450714111328\n",
      "Saved checkpoint for step 1502: ./tf_ckpts/ckpt-16\n",
      "Iteration 1500, Epoch 35, Loss: 0.01940099336206913, Accuracy: 99.2860107421875, Val Loss: 0.0241591427475214, Val Accuracy: 99.156494140625\n",
      "Saved checkpoint for step 1602: ./tf_ckpts/ckpt-17\n",
      "Iteration 1600, Epoch 38, Loss: 0.017350172623991966, Accuracy: 99.35737609863281, Val Loss: 0.02367231622338295, Val Accuracy: 99.1096420288086\n",
      "Saved checkpoint for step 1702: ./tf_ckpts/ckpt-18\n",
      "Iteration 1700, Epoch 40, Loss: 0.015100754797458649, Accuracy: 99.4376449584961, Val Loss: 0.020252689719200134, Val Accuracy: 99.27812957763672\n",
      "Saved checkpoint for step 1802: ./tf_ckpts/ckpt-19\n",
      "Iteration 1800, Epoch 42, Loss: 0.013709694147109985, Accuracy: 99.48765563964844, Val Loss: 0.021510228514671326, Val Accuracy: 99.29499816894531\n",
      "Saved checkpoint for step 1902: ./tf_ckpts/ckpt-20\n",
      "Iteration 1900, Epoch 45, Loss: 0.014703567139804363, Accuracy: 99.44976043701172, Val Loss: 0.02145460434257984, Val Accuracy: 99.24261474609375\n",
      "Saved checkpoint for step 2002: ./tf_ckpts/ckpt-21\n",
      "Iteration 2000, Epoch 47, Loss: 0.012762432917952538, Accuracy: 99.51885986328125, Val Loss: 0.025233633816242218, Val Accuracy: 99.17127227783203\n",
      "Saved checkpoint for step 2102: ./tf_ckpts/ckpt-22\n",
      "Iteration 2100, Epoch 49, Loss: 0.012926307506859303, Accuracy: 99.51042938232422, Val Loss: 0.022058067843317986, Val Accuracy: 99.27057647705078\n",
      "Saved checkpoint for step 2202: ./tf_ckpts/ckpt-23\n",
      "Iteration 2200, Epoch 52, Loss: 0.015392840839922428, Accuracy: 99.41781616210938, Val Loss: 0.020691273733973503, Val Accuracy: 99.31621551513672\n",
      "Saved checkpoint for step 2302: ./tf_ckpts/ckpt-24\n",
      "Iteration 2300, Epoch 54, Loss: 0.02970370464026928, Accuracy: 98.95565032958984, Val Loss: 0.029646972194314003, Val Accuracy: 98.95811462402344\n",
      "Saved checkpoint for step 2402: ./tf_ckpts/ckpt-25\n",
      "Iteration 2400, Epoch 56, Loss: 0.016104653477668762, Accuracy: 99.3941879272461, Val Loss: 0.019492754712700844, Val Accuracy: 99.31100463867188\n",
      "Saved checkpoint for step 2502: ./tf_ckpts/ckpt-26\n",
      "Iteration 2500, Epoch 59, Loss: 0.014140458777546883, Accuracy: 99.46653747558594, Val Loss: 0.0191684290766716, Val Accuracy: 99.33518981933594\n",
      "Saved checkpoint for step 2602: ./tf_ckpts/ckpt-27\n",
      "Iteration 2600, Epoch 61, Loss: 0.011744484305381775, Accuracy: 99.54830169677734, Val Loss: 0.020076770335435867, Val Accuracy: 99.34260559082031\n",
      "Saved checkpoint for step 2702: ./tf_ckpts/ckpt-28\n",
      "Iteration 2700, Epoch 63, Loss: 0.01190050970762968, Accuracy: 99.54496765136719, Val Loss: 0.02339186519384384, Val Accuracy: 99.22325134277344\n",
      "Saved checkpoint for step 2802: ./tf_ckpts/ckpt-29\n",
      "Iteration 2800, Epoch 66, Loss: 0.013270373456180096, Accuracy: 99.4924087524414, Val Loss: 0.023815996944904327, Val Accuracy: 99.26087188720703\n",
      "Saved checkpoint for step 2902: ./tf_ckpts/ckpt-30\n",
      "Iteration 2900, Epoch 68, Loss: 0.013981493189930916, Accuracy: 99.46176147460938, Val Loss: 0.01992359198629856, Val Accuracy: 99.32792663574219\n",
      "Saved checkpoint for step 3002: ./tf_ckpts/ckpt-31\n",
      "Iteration 3000, Epoch 70, Loss: 0.01966048963367939, Accuracy: 99.2789077758789, Val Loss: 0.02057984657585621, Val Accuracy: 99.28369140625\n",
      "Saved checkpoint for step 3102: ./tf_ckpts/ckpt-32\n",
      "Iteration 3100, Epoch 73, Loss: 0.01708120107650757, Accuracy: 99.36236572265625, Val Loss: 0.01935422606766224, Val Accuracy: 99.30812072753906\n",
      "Saved checkpoint for step 3202: ./tf_ckpts/ckpt-33\n",
      "Iteration 3200, Epoch 75, Loss: 0.012654374353587627, Accuracy: 99.51655578613281, Val Loss: 0.018500078469514847, Val Accuracy: 99.34932708740234\n",
      "Saved checkpoint for step 3302: ./tf_ckpts/ckpt-34\n",
      "Iteration 3300, Epoch 77, Loss: 0.011705809272825718, Accuracy: 99.54840087890625, Val Loss: 0.020067833364009857, Val Accuracy: 99.28841400146484\n",
      "Saved checkpoint for step 3402: ./tf_ckpts/ckpt-35\n",
      "Iteration 3400, Epoch 80, Loss: 0.012259156443178654, Accuracy: 99.51954650878906, Val Loss: 0.019899867475032806, Val Accuracy: 99.34376525878906\n",
      "Saved checkpoint for step 3502: ./tf_ckpts/ckpt-36\n",
      "Iteration 3500, Epoch 82, Loss: 0.010598551481962204, Accuracy: 99.5792007446289, Val Loss: 0.019441712647676468, Val Accuracy: 99.37336730957031\n",
      "Saved checkpoint for step 3602: ./tf_ckpts/ckpt-37\n",
      "Iteration 3600, Epoch 84, Loss: 0.0107255345210433, Accuracy: 99.58148956298828, Val Loss: 0.019537894055247307, Val Accuracy: 99.38250732421875\n",
      "Saved checkpoint for step 3702: ./tf_ckpts/ckpt-38\n",
      "Iteration 3700, Epoch 87, Loss: 0.013051259331405163, Accuracy: 99.49237823486328, Val Loss: 0.021581705659627914, Val Accuracy: 99.30823516845703\n",
      "Saved checkpoint for step 3802: ./tf_ckpts/ckpt-39\n",
      "Iteration 3800, Epoch 89, Loss: 0.010795718058943748, Accuracy: 99.57774353027344, Val Loss: 0.020780732855200768, Val Accuracy: 99.35945129394531\n"
     ]
    },
    {
     "name": "stdout",
     "output_type": "stream",
     "text": [
      "Saved checkpoint for step 3902: ./tf_ckpts/ckpt-40\n",
      "Iteration 3900, Epoch 91, Loss: 0.0096619613468647, Accuracy: 99.61813354492188, Val Loss: 0.020930826663970947, Val Accuracy: 99.38298034667969\n",
      "Saved checkpoint for step 4002: ./tf_ckpts/ckpt-41\n",
      "Iteration 4000, Epoch 94, Loss: 0.01154788862913847, Accuracy: 99.53783416748047, Val Loss: 0.020939268171787262, Val Accuracy: 99.3439712524414\n",
      "Saved checkpoint for step 4102: ./tf_ckpts/ckpt-42\n",
      "Iteration 4100, Epoch 96, Loss: 0.009809313341975212, Accuracy: 99.60848236083984, Val Loss: 0.02366706356406212, Val Accuracy: 99.33365631103516\n",
      "Saved checkpoint for step 4202: ./tf_ckpts/ckpt-43\n",
      "Iteration 4200, Epoch 98, Loss: 0.009359361603856087, Accuracy: 99.62761688232422, Val Loss: 0.024336107075214386, Val Accuracy: 99.32783508300781\n"
     ]
    }
   ],
   "source": [
    "train_part(model, optimizer, manager, num_epochs=100, is_training=False)"
   ]
  },
  {
   "cell_type": "code",
   "execution_count": 16,
   "metadata": {},
   "outputs": [
    {
     "name": "stdout",
     "output_type": "stream",
     "text": [
      "Restored from ./tf_ckpts/ckpt-43\n"
     ]
    }
   ],
   "source": [
    "ckpt.restore(manager.latest_checkpoint)\n",
    "if manager.latest_checkpoint:\n",
    "    print(\"Restored from {}\".format(manager.latest_checkpoint))\n",
    "else:\n",
    "    print(\"Initializing from scratch.\")"
   ]
  },
  {
   "cell_type": "code",
   "execution_count": 28,
   "metadata": {},
   "outputs": [
    {
     "name": "stdout",
     "output_type": "stream",
     "text": [
      "The accuracy on the test set is  tf.Tensor(99.2143, shape=(), dtype=float32)\n"
     ]
    }
   ],
   "source": [
    "# Get prediction and accuracy on test set\n",
    "test_accuracy = tf.keras.metrics.SparseCategoricalAccuracy(name='test_accuracy')\n",
    "acc = 0\n",
    "total = 0\n",
    "for x_np, y_np in test_dset:\n",
    "    prediction = model(x_np, training=False)\n",
    "    test_accuracy.update_state(y_np, prediction)\n",
    "print('The accuracy on the test set is ', test_accuracy.result()*100)"
   ]
  },
  {
   "cell_type": "code",
   "execution_count": 17,
   "metadata": {},
   "outputs": [
    {
     "name": "stdout",
     "output_type": "stream",
     "text": [
      "(176, 224)\n"
     ]
    }
   ],
   "source": [
    "X_proj = np.load('X_proj.npy')\n",
    "y_proj = np.load('y_proj.npy')\n",
    "print(X_proj.shape)"
   ]
  },
  {
   "cell_type": "code",
   "execution_count": 18,
   "metadata": {},
   "outputs": [],
   "source": [
    "X_proj = X_proj.reshape(1,176,224,1)"
   ]
  },
  {
   "cell_type": "code",
   "execution_count": 19,
   "metadata": {},
   "outputs": [
    {
     "name": "stdout",
     "output_type": "stream",
     "text": [
      "WARNING:tensorflow:Layer u_net is casting an input tensor from dtype float64 to the layer's dtype of float32, which is new behavior in TensorFlow 2.  The layer has dtype float32 because it's dtype defaults to floatx.\n",
      "\n",
      "If you intended to run this layer in float32, you can safely ignore this warning. If in doubt, this warning is likely only an issue if you are porting a TensorFlow 1.X model to TensorFlow 2.\n",
      "\n",
      "To change all layers to have dtype float64 by default, call `tf.keras.backend.set_floatx('float64')`. To change just this layer, pass dtype='float64' to the layer constructor. If you are the author of this layer, you can disable autocasting by passing autocast=False to the base Layer constructor.\n",
      "\n"
     ]
    }
   ],
   "source": [
    "scores = model(X_proj).numpy().reshape(176, 224, 4)\n",
    "pred = np.zeros((176,224))\n",
    "pred[np.argmax(scores,axis=2)==1] = 1/3\n",
    "pred[np.argmax(scores,axis=2)==2] = 2/3\n",
    "pred[np.argmax(scores,axis=2)==3] =1"
   ]
  },
  {
   "cell_type": "code",
   "execution_count": 20,
   "metadata": {},
   "outputs": [
    {
     "data": {
      "image/png": "[encoded data removed]",
      "text/plain": [
       "<Figure size 432x288 with 2 Axes>"
      ]
     },
     "metadata": {
      "needs_background": "light"
     },
     "output_type": "display_data"
    }
   ],
   "source": [
    "_, ax = plt.subplots(1,2)\n",
    "ax[0].imshow(pred, cmap='gray')\n",
    "ax[0].set_title('Predicted Image Mask')\n",
    "ax[0].grid(False)\n",
    "ax[1].imshow(y_proj,cmap='gray')\n",
    "ax[1].set_title('Ground Truth Label')\n",
    "ax[1].grid(False)"
   ]
  },
  {
   "cell_type": "code",
   "execution_count": 21,
   "metadata": {},
   "outputs": [],
   "source": [
    "eps = 10**(-3)\n",
    "imdiff = np.zeros_like(pred)\n",
    "imdiff[abs(pred-y_proj)>eps] = 1"
   ]
  },
  {
   "cell_type": "code",
   "execution_count": 22,
   "metadata": {},
   "outputs": [
    {
     "data": {
      "text/plain": [
       "Text(0.5, 1.0, 'Difference between prediction and ground truth')"
      ]
     },
     "execution_count": 22,
     "metadata": {},
     "output_type": "execute_result"
    },
    {
     "data": {
      "image/png": "[encoded data removed]",
      "text/plain": [
       "<Figure size 432x288 with 1 Axes>"
      ]
     },
     "metadata": {
      "needs_background": "light"
     },
     "output_type": "display_data"
    }
   ],
   "source": [
    "plt.imshow(imdiff, cmap='gray')\n",
    "plt.grid(False)\n",
    "plt.title('Difference between prediction and ground truth')"
   ]
  },
  {
   "cell_type": "code",
   "execution_count": 23,
   "metadata": {},
   "outputs": [],
   "source": [
    "char1 = '('\n",
    "char2 = ','\n",
    "\n",
    "train_loss_history = []\n",
    "\n",
    "with open('data/train_loss_history.txt', 'r') as filehandle:\n",
    "    for line in filehandle:\n",
    "        tmp= float(line[line.find(char1)+1:line.find(char2)])\n",
    "        train_loss_history.append(tmp)\n",
    "        \n",
    "val_loss_history = []\n",
    "\n",
    "with open('data/val_loss_history.txt', 'r') as filehandle:\n",
    "    for line in filehandle:\n",
    "        tmp= float(line[line.find(char1)+1:line.find(char2)])\n",
    "        val_loss_history.append(tmp)\n",
    "        \n",
    "train_accuracy_history = []\n",
    "\n",
    "with open('data/train_accuracy_history.txt', 'r') as filehandle:\n",
    "    for line in filehandle:\n",
    "        tmp= float(line[line.find(char1)+1:line.find(char2)])\n",
    "        train_accuracy_history.append(tmp)\n",
    "        \n",
    "val_accuracy_history = []\n",
    "\n",
    "with open('data/val_accuracy_history.txt', 'r') as filehandle:\n",
    "    for line in filehandle:\n",
    "        tmp= float(line[line.find(char1)+1:line.find(char2)])\n",
    "        val_accuracy_history.append(tmp)"
   ]
  },
  {
   "cell_type": "code",
   "execution_count": 25,
   "metadata": {},
   "outputs": [
    {
     "data": {
      "text/plain": [
       "<matplotlib.legend.Legend at 0x7fac301057f0>"
      ]
     },
     "execution_count": 25,
     "metadata": {},
     "output_type": "execute_result"
    },
    {
     "data": {
      "image/png": "[encoded data removed]",
      "text/plain": [
       "<Figure size 432x288 with 2 Axes>"
      ]
     },
     "metadata": {
      "needs_background": "light"
     },
     "output_type": "display_data"
    }
   ],
   "source": [
    "_, ax = plt.subplots(1,2)\n",
    "length = range(len(train_loss_history))\n",
    "ax[0].plot(length, train_loss_history, label=\"train\")\n",
    "ax[0].plot(length, val_loss_history, label=\"val\")\n",
    "ax[0].grid(False)\n",
    "ax[0].set_title('Train/Val Loss History')\n",
    "ax[0].set_xlabel('Num. Epochs')\n",
    "ax[0].set_ylabel('Loss')\n",
    "ax[0].legend()\n",
    "\n",
    "ax[1].plot(length, train_accuracy_history, label=\"train\")\n",
    "ax[1].plot(length, val_accuracy_history, label=\"val\")\n",
    "ax[1].grid(False)\n",
    "ax[1].set_title('Train/Val Accuracy History')\n",
    "ax[1].set_xlabel('Num. Epochs')\n",
    "ax[1].set_ylabel('Accuracy')\n",
    "ax[1].legend()"
   ]
  },
  {
   "cell_type": "code",
   "execution_count": 88,
   "metadata": {},
   "outputs": [],
   "source": [
    "round_to = np.unique(pred)\n",
    "def closest(lst, K):  \n",
    "    idx = (np.abs(lst - K)).argmin() \n",
    "    return lst[idx] "
   ]
  },
  {
   "cell_type": "code",
   "execution_count": 89,
   "metadata": {},
   "outputs": [],
   "source": [
    "from skimage.transform import resize\n",
    "\n",
    "pred = resize(pred, (216,256)) #Resize to original size\n",
    "pred = (pred-np.amin(pred))/np.amax(pred)\n",
    "\n",
    "for m in range(216):\n",
    "    for n in range(256):\n",
    "        pred[m,n] = closest(round_to, pred[m,n])"
   ]
  },
  {
   "cell_type": "code",
   "execution_count": 92,
   "metadata": {},
   "outputs": [
    {
     "name": "stdout",
     "output_type": "stream",
     "text": [
      "2635.2 1723.25\n"
     ]
    }
   ],
   "source": [
    "tmpLV = np.zeros_like(pred)\n",
    "tmpLV[pred == round_to[3]] = 1\n",
    "LV_volume = 1.525*np.sum(tmpLV)\n",
    "\n",
    "tmpRV = np.zeros_like(pred)\n",
    "tmpRV[pred == round_to[1]] = 1\n",
    "RV_volume = 1.525*np.sum(tmpRV)\n",
    "\n",
    "print(LV_volume, RV_volume)"
   ]
  },
  {
   "cell_type": "code",
   "execution_count": 80,
   "metadata": {},
   "outputs": [
    {
     "data": {
      "text/plain": [
       "(216, 256)"
      ]
     },
     "execution_count": 80,
     "metadata": {},
     "output_type": "execute_result"
    }
   ],
   "source": [
    "pred.shape"
   ]
  },
  {
   "cell_type": "code",
   "execution_count": 91,
   "metadata": {},
   "outputs": [
    {
     "data": {
      "text/plain": [
       "array([0.        , 0.33333333, 0.66666667, 1.        ])"
      ]
     },
     "execution_count": 91,
     "metadata": {},
     "output_type": "execute_result"
    }
   ],
   "source": [
    "round_to\n"
   ]
  },
  {
   "cell_type": "code",
   "execution_count": null,
   "metadata": {},
   "outputs": [],
   "source": []
  }
 ],
 "metadata": {
  "accelerator": "GPU",
  "colab": {
   "collapsed_sections": [],
   "name": "Untitled2.ipynb",
   "provenance": []
  },
  "kernelspec": {
   "display_name": "Python 3",
   "language": "python",
   "name": "python3"
  },
  "language_info": {
   "codemirror_mode": {
    "name": "ipython",
    "version": 3
   },
   "file_extension": ".py",
   "mimetype": "text/x-python",
   "name": "python",
   "nbconvert_exporter": "python",
   "pygments_lexer": "ipython3",
   "version": "3.6.10"
  }
 },
 "nbformat": 4,
 "nbformat_minor": 1
}
